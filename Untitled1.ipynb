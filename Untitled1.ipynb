{
 "cells": [
  {
   "cell_type": "code",
   "execution_count": 2,
   "id": "311215b8",
   "metadata": {},
   "outputs": [
    {
     "name": "stdout",
     "output_type": "stream",
     "text": [
      "dict_keys(['info', 'images', 'annotations', 'categories'])\n"
     ]
    },
    {
     "ename": "TypeError",
     "evalue": "list indices must be integers or slices, not str",
     "output_type": "error",
     "traceback": [
      "\u001b[1;31m---------------------------------------------------------------------------\u001b[0m",
      "\u001b[1;31mTypeError\u001b[0m                                 Traceback (most recent call last)",
      "Cell \u001b[1;32mIn[2], line 14\u001b[0m\n\u001b[0;32m     10\u001b[0m \u001b[38;5;28mprint\u001b[39m(data\u001b[38;5;241m.\u001b[39mkeys())\n\u001b[0;32m     12\u001b[0m \u001b[38;5;66;03m# Explore the structure further by accessing nested keys\u001b[39;00m\n\u001b[0;32m     13\u001b[0m \u001b[38;5;66;03m# For example, if the 'annotations' key is nested within another key:\u001b[39;00m\n\u001b[1;32m---> 14\u001b[0m nested_annotations \u001b[38;5;241m=\u001b[39m \u001b[43mdata\u001b[49m\u001b[43m[\u001b[49m\u001b[38;5;124;43m'\u001b[39;49m\u001b[38;5;124;43mannotations\u001b[39;49m\u001b[38;5;124;43m'\u001b[39;49m\u001b[43m]\u001b[49m\u001b[43m[\u001b[49m\u001b[38;5;124;43m'\u001b[39;49m\u001b[38;5;124;43mannotations\u001b[39;49m\u001b[38;5;124;43m'\u001b[39;49m\u001b[43m]\u001b[49m\n\u001b[0;32m     15\u001b[0m \u001b[38;5;28mprint\u001b[39m(nested_annotations\u001b[38;5;241m.\u001b[39mkeys())\n\u001b[0;32m     17\u001b[0m \u001b[38;5;66;03m# Inspect the structure of the first annotation\u001b[39;00m\n",
      "\u001b[1;31mTypeError\u001b[0m: list indices must be integers or slices, not str"
     ]
    }
   ],
   "source": [
    "import json\n",
    "\n",
    "annotations_file = 'annotations.json'\n",
    "\n",
    "# Load the JSON file\n",
    "with open(annotations_file, 'r') as f:\n",
    "    data = json.load(f)\n",
    "\n",
    "# Print the keys at the top level of the JSON file\n",
    "print(data.keys())\n",
    "\n",
    "# Explore the structure further by accessing nested keys\n",
    "# For example, if the 'annotations' key is nested within another key:\n",
    "nested_annotations = data['annotations']['annotations']\n",
    "print(nested_annotations.keys())\n",
    "\n",
    "# Inspect the structure of the first annotation\n",
    "first_annotation = nested_annotations[0]\n",
    "print(first_annotation.keys())\n",
    "\n",
    "# Print the available keys within the first annotation\n",
    "print(first_annotation.keys())\n"
   ]
  },
  {
   "cell_type": "code",
   "execution_count": null,
   "id": "5df41d29",
   "metadata": {},
   "outputs": [],
   "source": []
  }
 ],
 "metadata": {
  "kernelspec": {
   "display_name": "Python 3 (ipykernel)",
   "language": "python",
   "name": "python3"
  },
  "language_info": {
   "codemirror_mode": {
    "name": "ipython",
    "version": 3
   },
   "file_extension": ".py",
   "mimetype": "text/x-python",
   "name": "python",
   "nbconvert_exporter": "python",
   "pygments_lexer": "ipython3",
   "version": "3.10.9"
  }
 },
 "nbformat": 4,
 "nbformat_minor": 5
}
