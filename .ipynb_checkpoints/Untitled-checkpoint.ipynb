{
 "cells": [
  {
   "cell_type": "code",
   "execution_count": 1,
   "id": "6f17907d",
   "metadata": {},
   "outputs": [],
   "source": [
    "import tensorflow as tf\n",
    "from tensorflow import keras\n",
    "import numpy as  np\n",
    "import cv2\n",
    "import json\n",
    "import os\n"
   ]
  },
  {
   "cell_type": "code",
   "execution_count": 2,
   "id": "c11a525b",
   "metadata": {},
   "outputs": [],
   "source": [
    "dataset_folder = 'dataset'\n",
    "annotations_file = 'annotations.json'\n",
    "\n",
    "# Load images\n",
    "images = []\n",
    "for filename in os.listdir(dataset_folder):\n",
    "    if filename.endswith(\".jpg\") or filename.endswith(\".png\"):\n",
    "        image = cv2.imread(os.path.join(dataset_folder, filename))\n",
    "        images.append(image)\n",
    "\n",
    "# Load annotations\n",
    "with open(annotations_file, 'r') as f:\n",
    "    annotations = json.load(f)\n"
   ]
  },
  {
   "cell_type": "code",
   "execution_count": 3,
   "id": "6d918b48",
   "metadata": {},
   "outputs": [],
   "source": [
    "# Resize images\n",
    "resized_images = []\n",
    "for image in images:\n",
    "    resized_image = cv2.resize(image, (224, 224))  # Adjust the dimensions as per your requirement\n",
    "    resized_images.append(resized_image)\n",
    "\n",
    "# Normalize pixel values\n",
    "normalized_images = []\n",
    "for image in resized_images:\n",
    "    normalized_image = image / 255.0\n",
    "    normalized_images.append(normalized_image)\n"
   ]
  },
  {
   "cell_type": "code",
   "execution_count": 4,
   "id": "2e50ed43",
   "metadata": {},
   "outputs": [],
   "source": [
    "train_images = normalized_images[:30]\n",
    "train_annotations = annotations['annotations'][:30]\n",
    "val_images = normalized_images[30:]\n",
    "val_annotations = annotations['annotations'][30:]\n",
    "\n",
    "# Extract the list of filenames from validation images\n",
    "val_image_filenames = [annotation['id'] for annotation in val_annotations]\n",
    "\n",
    "# Align the validation annotations with the images\n",
    "aligned_val_images = []\n",
    "aligned_val_annotations = []\n",
    "\n",
    "for image, annotation in zip(val_images, val_annotations):\n",
    "    # Check if the image has a corresponding annotation\n",
    "    if annotation['id'] in val_image_filenames:\n",
    "        aligned_val_images.append(image)\n",
    "        aligned_val_annotations.append(annotation)\n",
    "\n",
    "# Convert the aligned lists to numpy arrays\n",
    "aligned_val_images = np.array(aligned_val_images)\n",
    "aligned_val_annotations = np.array(aligned_val_annotations)\n",
    "\n"
   ]
  },
  {
   "cell_type": "code",
   "execution_count": 5,
   "id": "da34070c",
   "metadata": {},
   "outputs": [],
   "source": [
    "# Split the dataset into training and validation sets\n",
    "train_images = normalized_images[:30]\n",
    "train_images=np.array(train_images)\n",
    "val_images = normalized_images[30:]\n",
    "val_images=np.array(val_images)\n"
   ]
  },
  {
   "cell_type": "code",
   "execution_count": 7,
   "id": "38edb12e",
   "metadata": {},
   "outputs": [],
   "source": [
    "# train_annotation_values = [annotation['id'] for annotation in train_annotations]\n",
    "# val_annotation_values = [annotation['id'] for annotation in val_annotations]\n",
    "train_annotations = np.array(train_annotations)\n",
    "train_images=np.array(train_images)\n",
    "# val_annotations = np.array(val_annotation_values)"
   ]
  },
  {
   "cell_type": "code",
   "execution_count": 8,
   "id": "ea5e3991",
   "metadata": {},
   "outputs": [
    {
     "name": "stdout",
     "output_type": "stream",
     "text": [
      "(30,)\n"
     ]
    }
   ],
   "source": [
    "print(train_annotations.shape)"
   ]
  },
  {
   "cell_type": "code",
   "execution_count": 9,
   "id": "6cbea21a",
   "metadata": {},
   "outputs": [
    {
     "name": "stdout",
     "output_type": "stream",
     "text": [
      "(10,)\n"
     ]
    }
   ],
   "source": [
    "print(aligned_val_annotations.shape)"
   ]
  },
  {
   "cell_type": "code",
   "execution_count": 10,
   "id": "c571d1d2",
   "metadata": {},
   "outputs": [],
   "source": [
    "# Split the dataset into training and validation sets\n",
    "train_images = normalized_images[:30]\n",
    "train_images = np.array(train_images)\n",
    "# val_images = normalized_images[30:]\n",
    "val_images = np.array(val_images)\n"
   ]
  },
  {
   "cell_type": "code",
   "execution_count": 11,
   "id": "bcc21d08",
   "metadata": {},
   "outputs": [
    {
     "name": "stdout",
     "output_type": "stream",
     "text": [
      "(30, 224, 224, 3)\n"
     ]
    }
   ],
   "source": [
    "print(train_images.shape)"
   ]
  },
  {
   "cell_type": "code",
   "execution_count": 12,
   "id": "1a87bc3f",
   "metadata": {},
   "outputs": [
    {
     "name": "stdout",
     "output_type": "stream",
     "text": [
      "(10, 224, 224, 3)\n"
     ]
    }
   ],
   "source": [
    "print(aligned_val_images.shape)"
   ]
  },
  {
   "cell_type": "code",
   "execution_count": 13,
   "id": "9ceb65f0",
   "metadata": {},
   "outputs": [
    {
     "ename": "NameError",
     "evalue": "name 'aligned_val_annotations_numeric' is not defined",
     "output_type": "error",
     "traceback": [
      "\u001b[1;31m---------------------------------------------------------------------------\u001b[0m",
      "\u001b[1;31mNameError\u001b[0m                                 Traceback (most recent call last)",
      "Cell \u001b[1;32mIn[13], line 7\u001b[0m\n\u001b[0;32m      3\u001b[0m \u001b[38;5;66;03m# aligned_val_annotations_numeric = [annotation['id'] for annotation in aligned_val_annotations]\u001b[39;00m\n\u001b[0;32m      4\u001b[0m \n\u001b[0;32m      5\u001b[0m \u001b[38;5;66;03m# Convert the annotations to numpy arrays\u001b[39;00m\n\u001b[0;32m      6\u001b[0m train_annotations_numeric \u001b[38;5;241m=\u001b[39m np\u001b[38;5;241m.\u001b[39marray(train_annotations_numeric)\n\u001b[1;32m----> 7\u001b[0m aligned_val_annotations_numeric \u001b[38;5;241m=\u001b[39m np\u001b[38;5;241m.\u001b[39marray(\u001b[43maligned_val_annotations_numeric\u001b[49m)\n",
      "\u001b[1;31mNameError\u001b[0m: name 'aligned_val_annotations_numeric' is not defined"
     ]
    }
   ],
   "source": [
    "# Convert annotations to numerical format\n",
    "train_annotations_numeric = [annotation['id'] for annotation in train_annotations]\n",
    "aligned_val_annotations_numeric = [annotation['id'] for annotation in aligned_val_annotations]\n",
    "\n",
    "# Convert the annotations to numpy arrays\n",
    "train_annotations_numeric = np.array(train_annotations_numeric)\n",
    "aligned_val_annotations_numeric = np.array(aligned_val_annotations_numeric)\n"
   ]
  },
  {
   "cell_type": "code",
   "execution_count": null,
   "id": "6832a951",
   "metadata": {},
   "outputs": [],
   "source": [
    "model = keras.Sequential()\n",
    "model.add(keras.layers.Conv2D(32, (3, 3), activation='relu', input_shape=(224, 224, 3)))\n",
    "model.add(keras.layers.MaxPooling2D((2, 2)))\n",
    "model.add(keras.layers.Conv2D(64, (3, 3), activation='relu'))\n",
    "model.add(keras.layers.MaxPooling2D((2, 2)))\n",
    "model.add(keras.layers.Conv2D(128, (3, 3), activation='relu'))\n",
    "model.add(keras.layers.MaxPooling2D((2, 2)))\n",
    "model.add(keras.layers.Flatten())\n",
    "model.add(keras.layers.Dense(64, activation='relu'))\n",
    "model.add(keras.layers.Dense(1, activation='sigmoid'))\n"
   ]
  },
  {
   "cell_type": "code",
   "execution_count": null,
   "id": "effe4e66",
   "metadata": {},
   "outputs": [],
   "source": [
    "# Compile and train the model\n",
    "model.compile(optimizer='adam', loss='binary_crossentropy', metrics=['accuracy'])\n",
    "model.fit(train_images, train_annotations_numeric, epochs=10, validation_data=(aligned_val_images, aligned_val_annotations_numeric))\n",
    "\n"
   ]
  },
  {
   "cell_type": "code",
   "execution_count": null,
   "id": "cfe064a2",
   "metadata": {},
   "outputs": [],
   "source": [
    "# Evaluate the model on the validation set\n",
    "val_loss, val_accuracy = model.evaluate(val_images, val_annotations)\n",
    "print(\"Validation Loss:\", val_loss)\n",
    "print(\"Validation Accuracy:\", val_accuracy)\n"
   ]
  },
  {
   "cell_type": "code",
   "execution_count": null,
   "id": "1a8f113f",
   "metadata": {},
   "outputs": [],
   "source": [
    "# Load a new image for detection\n",
    "new_image = cv2.imread('dataset/images(12).jpg')\n",
    "\n",
    "# Preprocess the new image\n",
    "resized_image = cv2.resize(new_image, (224, 224))\n",
    "normalized_image = resized_image / 255.0\n",
    "\n",
    "# Reshape the image to match the model's input shape\n",
    "input_image = normalized_image.reshape(1, 224, 224, 3)\n",
    "\n",
    "# Use the model to predict the presence of pipes\n",
    "prediction = model.predict(input_image)\n",
    "\n",
    "# Print the prediction (0 = no pipe, 1 = pipe)\n",
    "print(\"Pipe detection prediction:\", prediction[0])\n"
   ]
  },
  {
   "cell_type": "code",
   "execution_count": null,
   "id": "6a59b4d2",
   "metadata": {},
   "outputs": [],
   "source": []
  },
  {
   "cell_type": "code",
   "execution_count": null,
   "id": "8d345e0d",
   "metadata": {},
   "outputs": [],
   "source": []
  }
 ],
 "metadata": {
  "kernelspec": {
   "display_name": "Python 3 (ipykernel)",
   "language": "python",
   "name": "python3"
  },
  "language_info": {
   "codemirror_mode": {
    "name": "ipython",
    "version": 3
   },
   "file_extension": ".py",
   "mimetype": "text/x-python",
   "name": "python",
   "nbconvert_exporter": "python",
   "pygments_lexer": "ipython3",
   "version": "3.10.9"
  }
 },
 "nbformat": 4,
 "nbformat_minor": 5
}
