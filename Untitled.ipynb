{
 "cells": [
  {
   "cell_type": "code",
   "execution_count": 1,
   "id": "6f17907d",
   "metadata": {},
   "outputs": [],
   "source": [
    "import tensorflow as tf\n",
    "from tensorflow import keras\n",
    "from tensorflow.keras.preprocessing.image import ImageDataGenerator\n",
    "import numpy as np\n",
    "import cv2\n",
    "import json\n",
    "import os"
   ]
  },
  {
   "cell_type": "code",
   "execution_count": 2,
   "id": "c11a525b",
   "metadata": {},
   "outputs": [],
   "source": [
    "dataset_folder = 'dataset'\n",
    "annotations_file = 'annotations.json'\n",
    "\n",
    "# Load images\n",
    "images = []\n",
    "for filename in os.listdir(dataset_folder):\n",
    "    if filename.endswith(\".jpg\") or filename.endswith(\".png\"):\n",
    "        image = cv2.imread(os.path.join(dataset_folder, filename))\n",
    "        images.append(image)\n",
    "\n",
    "# Load annotations\n",
    "with open(annotations_file, 'r') as f:\n",
    "    annotations = json.load(f)"
   ]
  },
  {
   "cell_type": "code",
   "execution_count": 3,
   "id": "6d918b48",
   "metadata": {},
   "outputs": [],
   "source": [
    "# Resize and normalize images\n",
    "normalized_images = []\n",
    "for image in images:\n",
    "    resized_image = cv2.resize(image, (224, 224))  # Adjust the dimensions as per your requirement\n",
    "    normalized_image = resized_image / 255.0\n",
    "    normalized_images.append(normalized_image)\n"
   ]
  },
  {
   "cell_type": "code",
   "execution_count": 4,
   "id": "da43c52d",
   "metadata": {},
   "outputs": [],
   "source": [
    "# Convert images and annotations to numpy arrays\n",
    "normalized_images = np.array(normalized_images)\n",
    "annotations = np.array(annotations['annotations'])\n"
   ]
  },
  {
   "cell_type": "code",
   "execution_count": 6,
   "id": "5f73f34e",
   "metadata": {},
   "outputs": [],
   "source": [
    "# Split the dataset into training and validation sets\n",
    "train_images = normalized_images[:30]\n",
    "train_annotations = annotations[:30]\n",
    "val_images = normalized_images[30:]\n",
    "val_annotations = annotations[30:]\n",
    "\n",
    "val_image_filenames=[annotations['id']for annotations in val_annotations]\n",
    "aligned_val_annotations =[]\n",
    "for image, annotation in zip(val_images,val_annotations):\n",
    "    if annotation['id']in val_image_filenames:\n",
    "        aligned_val_annotations.append(annotation)\n",
    "aligned_val_annotations=np.array(aligned_val_annotations)"
   ]
  },
  {
   "cell_type": "code",
   "execution_count": 7,
   "id": "abf45650",
   "metadata": {},
   "outputs": [],
   "source": [
    "# Convert annotations to numerical format\n",
    "train_annotations_numeric = np.array([annotation['id'] for annotation in train_annotations])\n",
    "val_annotations_numeric = np.array([annotation['id'] for annotation in aligned_val_annotations])\n"
   ]
  },
  {
   "cell_type": "code",
   "execution_count": 8,
   "id": "6842a672",
   "metadata": {},
   "outputs": [
    {
     "name": "stdout",
     "output_type": "stream",
     "text": [
      "(30, 224, 224, 3)\n"
     ]
    }
   ],
   "source": [
    "print(train_images.shape)"
   ]
  },
  {
   "cell_type": "code",
   "execution_count": 9,
   "id": "d592d7e3",
   "metadata": {},
   "outputs": [
    {
     "name": "stdout",
     "output_type": "stream",
     "text": [
      "(30,)\n"
     ]
    }
   ],
   "source": [
    "print(train_annotations_numeric.shape)"
   ]
  },
  {
   "cell_type": "code",
   "execution_count": 10,
   "id": "109acd02",
   "metadata": {},
   "outputs": [
    {
     "name": "stdout",
     "output_type": "stream",
     "text": [
      "(10,)\n"
     ]
    }
   ],
   "source": [
    "print(val_annotations_numeric.shape)"
   ]
  },
  {
   "cell_type": "code",
   "execution_count": 11,
   "id": "d3d466aa",
   "metadata": {},
   "outputs": [
    {
     "name": "stdout",
     "output_type": "stream",
     "text": [
      "(10, 224, 224, 3)\n"
     ]
    }
   ],
   "source": [
    "print(val_images.shape)"
   ]
  },
  {
   "cell_type": "code",
   "execution_count": 12,
   "id": "87446a30",
   "metadata": {},
   "outputs": [],
   "source": [
    "# Create an ImageDataGenerator instance for data augmentation\n",
    "datagen = ImageDataGenerator(\n",
    "    rotation_range=20,  # Rotate images randomly between -20 to +20 degrees\n",
    "    width_shift_range=0.1,  # Shift the width of images randomly up to 10%\n",
    "    height_shift_range=0.1,  # Shift the height of images randomly up to 10%\n",
    "    horizontal_flip=True  # Flip images horizontally randomly\n",
    ")\n"
   ]
  },
  {
   "cell_type": "code",
   "execution_count": 13,
   "id": "a0889846",
   "metadata": {},
   "outputs": [],
   "source": [
    "# Fit the ImageDataGenerator on the training images\n",
    "datagen.fit(train_images)"
   ]
  },
  {
   "cell_type": "code",
   "execution_count": 14,
   "id": "6832a951",
   "metadata": {},
   "outputs": [],
   "source": [
    "model = keras.Sequential()\n",
    "model.add(keras.layers.Conv2D(32, (3, 3), activation='relu', input_shape=(224, 224, 3)))\n",
    "model.add(keras.layers.MaxPooling2D((2, 2)))\n",
    "model.add(keras.layers.Conv2D(64, (3, 3), activation='relu'))\n",
    "model.add(keras.layers.MaxPooling2D((2, 2)))\n",
    "model.add(keras.layers.Conv2D(128, (3, 3), activation='relu'))\n",
    "model.add(keras.layers.MaxPooling2D((2, 2)))\n",
    "model.add(keras.layers.Flatten())\n",
    "model.add(keras.layers.Dense(64, activation='relu'))\n",
    "model.add(keras.layers.Dense(1, activation='sigmoid'))\n"
   ]
  },
  {
   "cell_type": "code",
   "execution_count": 22,
   "id": "effe4e66",
   "metadata": {},
   "outputs": [
    {
     "name": "stdout",
     "output_type": "stream",
     "text": [
      "Epoch 1/10\n",
      "1/1 [==============================] - 2s 2s/step - loss: -74804.3828 - accuracy: 0.0333 - val_loss: -290195.0000 - val_accuracy: 0.0000e+00\n",
      "Epoch 2/10\n",
      "1/1 [==============================] - 2s 2s/step - loss: -113944.9219 - accuracy: 0.0333 - val_loss: -427016.8125 - val_accuracy: 0.0000e+00\n",
      "Epoch 3/10\n",
      "1/1 [==============================] - 2s 2s/step - loss: -167591.9688 - accuracy: 0.0333 - val_loss: -609990.1250 - val_accuracy: 0.0000e+00\n",
      "Epoch 4/10\n",
      "1/1 [==============================] - 2s 2s/step - loss: -239243.8281 - accuracy: 0.0333 - val_loss: -849371.6875 - val_accuracy: 0.0000e+00\n",
      "Epoch 5/10\n",
      "1/1 [==============================] - 2s 2s/step - loss: -332714.9375 - accuracy: 0.0333 - val_loss: -1155683.3750 - val_accuracy: 0.0000e+00\n",
      "Epoch 6/10\n",
      "1/1 [==============================] - 2s 2s/step - loss: -452196.6250 - accuracy: 0.0333 - val_loss: -1542817.6250 - val_accuracy: 0.0000e+00\n",
      "Epoch 7/10\n",
      "1/1 [==============================] - 2s 2s/step - loss: -603215.0625 - accuracy: 0.0333 - val_loss: -2024519.6250 - val_accuracy: 0.0000e+00\n",
      "Epoch 8/10\n",
      "1/1 [==============================] - 2s 2s/step - loss: -791194.9375 - accuracy: 0.0333 - val_loss: -2617647.2500 - val_accuracy: 0.0000e+00\n",
      "Epoch 9/10\n",
      "1/1 [==============================] - 2s 2s/step - loss: -1022766.0000 - accuracy: 0.0333 - val_loss: -3342143.5000 - val_accuracy: 0.0000e+00\n",
      "Epoch 10/10\n",
      "1/1 [==============================] - 2s 2s/step - loss: -1305650.0000 - accuracy: 0.0333 - val_loss: -4219598.5000 - val_accuracy: 0.0000e+00\n"
     ]
    },
    {
     "data": {
      "text/plain": [
       "<keras.callbacks.History at 0x21c95c20340>"
      ]
     },
     "execution_count": 22,
     "metadata": {},
     "output_type": "execute_result"
    }
   ],
   "source": [
    "# Compile and train the model\n",
    "model.compile(optimizer='adam', loss='binary_crossentropy', metrics=['accuracy'], run_eagerly=True)\n",
    "model.fit(train_images, train_annotations_numeric, epochs=10, validation_data=(val_images, val_annotations_numeric))\n",
    "\n"
   ]
  },
  {
   "cell_type": "code",
   "execution_count": 20,
   "id": "cfe064a2",
   "metadata": {},
   "outputs": [
    {
     "name": "stdout",
     "output_type": "stream",
     "text": [
      "1/1 [==============================] - 0s 122ms/step - loss: -190395.9062 - accuracy: 0.0000e+00\n",
      "Validation Loss: -190395.90625\n",
      "Validation Accuracy: 0.0\n"
     ]
    }
   ],
   "source": [
    "# Evaluate the model on the validation set\n",
    "val_loss, val_accuracy = model.evaluate(val_images, val_annotations_numeric)\n",
    "print(\"Validation Loss:\", val_loss)\n",
    "print(\"Validation Accuracy:\", val_accuracy)"
   ]
  },
  {
   "cell_type": "code",
   "execution_count": 21,
   "id": "1a8f113f",
   "metadata": {},
   "outputs": [
    {
     "ename": "error",
     "evalue": "OpenCV(4.7.0) D:\\a\\opencv-python\\opencv-python\\opencv\\modules\\imgproc\\src\\resize.cpp:4062: error: (-215:Assertion failed) !ssize.empty() in function 'cv::resize'\n",
     "output_type": "error",
     "traceback": [
      "\u001b[1;31m---------------------------------------------------------------------------\u001b[0m",
      "\u001b[1;31merror\u001b[0m                                     Traceback (most recent call last)",
      "Cell \u001b[1;32mIn[21], line 5\u001b[0m\n\u001b[0;32m      2\u001b[0m new_image \u001b[38;5;241m=\u001b[39m cv2\u001b[38;5;241m.\u001b[39mimread(\u001b[38;5;124m'\u001b[39m\u001b[38;5;124mdataset/images(12).jpg\u001b[39m\u001b[38;5;124m'\u001b[39m)\n\u001b[0;32m      4\u001b[0m \u001b[38;5;66;03m# Preprocess the new image\u001b[39;00m\n\u001b[1;32m----> 5\u001b[0m resized_image \u001b[38;5;241m=\u001b[39m \u001b[43mcv2\u001b[49m\u001b[38;5;241;43m.\u001b[39;49m\u001b[43mresize\u001b[49m\u001b[43m(\u001b[49m\u001b[43mnew_image\u001b[49m\u001b[43m,\u001b[49m\u001b[43m \u001b[49m\u001b[43m(\u001b[49m\u001b[38;5;241;43m224\u001b[39;49m\u001b[43m,\u001b[49m\u001b[43m \u001b[49m\u001b[38;5;241;43m224\u001b[39;49m\u001b[43m)\u001b[49m\u001b[43m)\u001b[49m\n\u001b[0;32m      6\u001b[0m normalized_image \u001b[38;5;241m=\u001b[39m resized_image \u001b[38;5;241m/\u001b[39m \u001b[38;5;241m255.0\u001b[39m\n\u001b[0;32m      8\u001b[0m \u001b[38;5;66;03m# Reshape the image to match the model's input shape\u001b[39;00m\n",
      "\u001b[1;31merror\u001b[0m: OpenCV(4.7.0) D:\\a\\opencv-python\\opencv-python\\opencv\\modules\\imgproc\\src\\resize.cpp:4062: error: (-215:Assertion failed) !ssize.empty() in function 'cv::resize'\n"
     ]
    }
   ],
   "source": [
    "# Load a new image for detection\n",
    "new_image = cv2.imread('dataset/images(12).jpg')\n",
    "\n",
    "# Preprocess the new image\n",
    "resized_image = cv2.resize(new_image, (224, 224))\n",
    "normalized_image = resized_image / 255.0\n",
    "\n",
    "# Reshape the image to match the model's input shape\n",
    "input_image = normalized_image.reshape(1, 224, 224, 3)\n",
    "\n",
    "# Use the model to predict the presence of pipes\n",
    "prediction = model.predict(input_image)\n",
    "\n",
    "# Print the prediction (0 = no pipe, 1 = pipe)\n",
    "print(\"Pipe detection prediction:\", prediction[0])"
   ]
  },
  {
   "cell_type": "code",
   "execution_count": null,
   "id": "6a59b4d2",
   "metadata": {},
   "outputs": [],
   "source": []
  },
  {
   "cell_type": "code",
   "execution_count": null,
   "id": "8d345e0d",
   "metadata": {},
   "outputs": [],
   "source": []
  }
 ],
 "metadata": {
  "kernelspec": {
   "display_name": "Python 3 (ipykernel)",
   "language": "python",
   "name": "python3"
  },
  "language_info": {
   "codemirror_mode": {
    "name": "ipython",
    "version": 3
   },
   "file_extension": ".py",
   "mimetype": "text/x-python",
   "name": "python",
   "nbconvert_exporter": "python",
   "pygments_lexer": "ipython3",
   "version": "3.10.9"
  }
 },
 "nbformat": 4,
 "nbformat_minor": 5
}
